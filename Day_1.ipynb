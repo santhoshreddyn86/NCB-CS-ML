{
 "cells": [
  {
   "cell_type": "code",
   "execution_count": 9,
   "id": "bb7947d7-cd45-4a66-9a8b-7cda877fdf91",
   "metadata": {},
   "outputs": [
    {
     "name": "stdout",
     "output_type": "stream",
     "text": [
      "Welcome to NCB\n"
     ]
    }
   ],
   "source": [
    "print(\"Welcome to NCB\")"
   ]
  },
  {
   "cell_type": "code",
   "execution_count": 10,
   "id": "e85c9835-b8cf-4fe6-a443-fe12f83d4bfa",
   "metadata": {},
   "outputs": [],
   "source": [
    "a = 20"
   ]
  },
  {
   "cell_type": "code",
   "execution_count": 11,
   "id": "f238c652-1f9c-48fb-9332-aca2b63220dd",
   "metadata": {},
   "outputs": [
    {
     "name": "stdout",
     "output_type": "stream",
     "text": [
      "20\n"
     ]
    }
   ],
   "source": [
    "print(a)"
   ]
  },
  {
   "cell_type": "code",
   "execution_count": 12,
   "id": "faa442d4-5cf9-4499-8427-efbd82338caf",
   "metadata": {},
   "outputs": [
    {
     "data": {
      "text/plain": [
       "20"
      ]
     },
     "execution_count": 12,
     "metadata": {},
     "output_type": "execute_result"
    }
   ],
   "source": [
    "a"
   ]
  },
  {
   "cell_type": "code",
   "execution_count": 13,
   "id": "0fe1c76b-97e4-4a8f-8010-b2f6a7650556",
   "metadata": {},
   "outputs": [
    {
     "name": "stdout",
     "output_type": "stream",
     "text": [
      "Value of a is  20\n"
     ]
    }
   ],
   "source": [
    "print(\"Value of a is \",a)"
   ]
  },
  {
   "cell_type": "code",
   "execution_count": 15,
   "id": "53f98657-8284-4a4a-a6b1-5ebaa805f6f2",
   "metadata": {},
   "outputs": [
    {
     "name": "stdout",
     "output_type": "stream",
     "text": [
      "sum of 20 and 30 is 50\n"
     ]
    }
   ],
   "source": [
    "a = 20\n",
    "b = 30\n",
    "c = a+b\n",
    "\n",
    "print(\"sum of {} and {} is {}\".format(a,b,c))"
   ]
  },
  {
   "cell_type": "code",
   "execution_count": 17,
   "id": "e0db5f52-1e6c-496c-818b-eeb434ff6b13",
   "metadata": {},
   "outputs": [
    {
     "name": "stdout",
     "output_type": "stream",
     "text": [
      "sum of 30 and 20 is 50\n"
     ]
    }
   ],
   "source": [
    "a = 20\n",
    "b = 30\n",
    "c = a+b\n",
    "\n",
    "print(\"sum of {1} and {0} is {2}\".format(a,b,c))"
   ]
  },
  {
   "cell_type": "code",
   "execution_count": 18,
   "id": "9574c555-5f06-47f4-846e-969fde8756c5",
   "metadata": {},
   "outputs": [
    {
     "data": {
      "text/plain": [
       "int"
      ]
     },
     "execution_count": 18,
     "metadata": {},
     "output_type": "execute_result"
    }
   ],
   "source": [
    "a = 34\n",
    "type(a)"
   ]
  },
  {
   "cell_type": "code",
   "execution_count": 20,
   "id": "d8af2a84-af2c-47a3-8518-0258ec2972e0",
   "metadata": {},
   "outputs": [
    {
     "data": {
      "text/plain": [
       "float"
      ]
     },
     "execution_count": 20,
     "metadata": {},
     "output_type": "execute_result"
    }
   ],
   "source": [
    "a = 100.0\n",
    "type(a)"
   ]
  },
  {
   "cell_type": "code",
   "execution_count": 21,
   "id": "f41895ff-7a8e-4711-ba30-85e1b78deef3",
   "metadata": {},
   "outputs": [
    {
     "data": {
      "text/plain": [
       "str"
      ]
     },
     "execution_count": 21,
     "metadata": {},
     "output_type": "execute_result"
    }
   ],
   "source": [
    "a = \"NCB\"\n",
    "type(a)"
   ]
  },
  {
   "cell_type": "code",
   "execution_count": 22,
   "id": "7e03cff3-d1ff-43d3-9606-e1ecc397d1e9",
   "metadata": {},
   "outputs": [
    {
     "data": {
      "text/plain": [
       "bool"
      ]
     },
     "execution_count": 22,
     "metadata": {},
     "output_type": "execute_result"
    }
   ],
   "source": [
    "a = True\n",
    "type(a)"
   ]
  },
  {
   "cell_type": "code",
   "execution_count": 23,
   "id": "8270a31c-d8ae-48d7-86e1-c2144bfeb708",
   "metadata": {},
   "outputs": [
    {
     "data": {
      "text/plain": [
       "100"
      ]
     },
     "execution_count": 23,
     "metadata": {},
     "output_type": "execute_result"
    }
   ],
   "source": [
    "d = True+99\n",
    "d"
   ]
  },
  {
   "cell_type": "code",
   "execution_count": 24,
   "id": "647e4be6-aab3-409b-af1b-bbb8df3aab94",
   "metadata": {},
   "outputs": [
    {
     "data": {
      "text/plain": [
       "1100.0"
      ]
     },
     "execution_count": 24,
     "metadata": {},
     "output_type": "execute_result"
    }
   ],
   "source": [
    "a = 100.0\n",
    "b = 1000\n",
    "a+b"
   ]
  },
  {
   "cell_type": "code",
   "execution_count": 27,
   "id": "c9652f59-979d-4c48-8c53-c7c659c97a9a",
   "metadata": {},
   "outputs": [],
   "source": [
    "a = 100\n",
    "b = str(a)"
   ]
  },
  {
   "cell_type": "code",
   "execution_count": 28,
   "id": "57241a85-2b2b-43e4-9b3c-08ddefa8cc2f",
   "metadata": {},
   "outputs": [
    {
     "data": {
      "text/plain": [
       "100.0"
      ]
     },
     "execution_count": 28,
     "metadata": {},
     "output_type": "execute_result"
    }
   ],
   "source": [
    "float(a)"
   ]
  },
  {
   "cell_type": "code",
   "execution_count": 29,
   "id": "9e4e09c2-9ae2-474d-a46f-5203b64528ee",
   "metadata": {},
   "outputs": [
    {
     "data": {
      "text/plain": [
       "str"
      ]
     },
     "execution_count": 29,
     "metadata": {},
     "output_type": "execute_result"
    }
   ],
   "source": [
    "a = \"40\"\n",
    "type(a)"
   ]
  },
  {
   "cell_type": "code",
   "execution_count": 30,
   "id": "d07b9bc9-887c-48c2-ab2d-d03e37d169db",
   "metadata": {},
   "outputs": [
    {
     "data": {
      "text/plain": [
       "40"
      ]
     },
     "execution_count": 30,
     "metadata": {},
     "output_type": "execute_result"
    }
   ],
   "source": [
    "int(a)"
   ]
  },
  {
   "cell_type": "code",
   "execution_count": 31,
   "id": "75c08278-ae12-4167-8135-5d452304adc3",
   "metadata": {},
   "outputs": [
    {
     "data": {
      "text/plain": [
       "False"
      ]
     },
     "execution_count": 31,
     "metadata": {},
     "output_type": "execute_result"
    }
   ],
   "source": [
    "20==30"
   ]
  },
  {
   "cell_type": "code",
   "execution_count": 33,
   "id": "055f58dd-c6c5-4f78-8cb5-bc2248d4c05b",
   "metadata": {},
   "outputs": [
    {
     "name": "stdin",
     "output_type": "stream",
     "text": [
      " 1\n"
     ]
    },
    {
     "name": "stdout",
     "output_type": "stream",
     "text": [
      "ON\n"
     ]
    }
   ],
   "source": [
    "s = int(input())\n",
    "\n",
    "if s == 1:\n",
    "    print(\"ON\")\n",
    "else:\n",
    "    print(\"OFF\")"
   ]
  },
  {
   "cell_type": "code",
   "execution_count": 34,
   "id": "fbf16331-2484-436e-b3dd-122512f9a733",
   "metadata": {},
   "outputs": [
    {
     "name": "stdin",
     "output_type": "stream",
     "text": [
      " 1\n"
     ]
    },
    {
     "name": "stdout",
     "output_type": "stream",
     "text": [
      "value is 1\n"
     ]
    }
   ],
   "source": [
    "t = int(input())\n",
    "\n",
    "if t == 1:\n",
    "    print(\"value is 1\")\n",
    "elif t == 2:\n",
    "    print(\"Value is 2\")\n",
    "else:\n",
    "    print(\"Other\")"
   ]
  },
  {
   "cell_type": "code",
   "execution_count": 40,
   "id": "6b54a9d1-eea6-47b6-8998-b1353dc4936c",
   "metadata": {},
   "outputs": [
    {
     "name": "stdin",
     "output_type": "stream",
     "text": [
      " 4500\n"
     ]
    },
    {
     "name": "stdout",
     "output_type": "stream",
     "text": [
      "Amount from friend  4500\n",
      "balance amount  500\n"
     ]
    }
   ],
   "source": [
    "bill_amount = 5000\n",
    "friend = int(input())\n",
    "\n",
    "if friend >0:\n",
    "    print(\"Amount from friend \", friend)\n",
    "    if friend >= bill_amount:\n",
    "        print(\"Full Bill paid\")\n",
    "    else:\n",
    "        balance = bill_amount - friend\n",
    "        print(\"balance amount \", balance)\n",
    "\n",
    "else:\n",
    "    print(\" Full Bill pending\")"
   ]
  },
  {
   "cell_type": "code",
   "execution_count": 42,
   "id": "346b1be8-c343-488d-9bdb-35bff7b42343",
   "metadata": {},
   "outputs": [],
   "source": [
    "s = \"welcome to NCB\""
   ]
  },
  {
   "cell_type": "code",
   "execution_count": 43,
   "id": "53797f7c-8784-4096-a1f8-d9719a67a23b",
   "metadata": {},
   "outputs": [
    {
     "data": {
      "text/plain": [
       "14"
      ]
     },
     "execution_count": 43,
     "metadata": {},
     "output_type": "execute_result"
    }
   ],
   "source": [
    "len(s)"
   ]
  },
  {
   "cell_type": "code",
   "execution_count": 46,
   "id": "f3fe2464-2a9c-4274-8a9c-f3872fb47cc0",
   "metadata": {},
   "outputs": [
    {
     "data": {
      "text/plain": [
       "'welcome'"
      ]
     },
     "execution_count": 46,
     "metadata": {},
     "output_type": "execute_result"
    }
   ],
   "source": [
    "s[0:7]"
   ]
  },
  {
   "cell_type": "code",
   "execution_count": null,
   "id": "5fc1b10c-144b-400c-ab28-da534af318c5",
   "metadata": {},
   "outputs": [],
   "source": [
    "KA 40 S 4381"
   ]
  },
  {
   "cell_type": "code",
   "execution_count": 62,
   "id": "aee257cd-64f7-4286-abe3-cff77ac0badb",
   "metadata": {},
   "outputs": [
    {
     "name": "stdin",
     "output_type": "stream",
     "text": [
      " KL\n"
     ]
    },
    {
     "name": "stdout",
     "output_type": "stream",
     "text": [
      "Close\n"
     ]
    }
   ],
   "source": [
    "n = input()\n",
    "\n",
    "a = n[0:2]\n",
    "\n",
    "if a == \"KA\":\n",
    "    print(\"Open\")\n",
    "elif a== \"AP\":\n",
    "    print(\"Open\")\n",
    "elif a== \"TN\":\n",
    "    print(\"Open\")\n",
    "else:\n",
    "    print(\"Close\")"
   ]
  },
  {
   "cell_type": "code",
   "execution_count": null,
   "id": "eedc55b0-2b5e-44c4-a44e-aac22632e7e5",
   "metadata": {},
   "outputs": [],
   "source": []
  }
 ],
 "metadata": {
  "kernelspec": {
   "display_name": "Python 3 (ipykernel)",
   "language": "python",
   "name": "python3"
  },
  "language_info": {
   "codemirror_mode": {
    "name": "ipython",
    "version": 3
   },
   "file_extension": ".py",
   "mimetype": "text/x-python",
   "name": "python",
   "nbconvert_exporter": "python",
   "pygments_lexer": "ipython3",
   "version": "3.11.7"
  }
 },
 "nbformat": 4,
 "nbformat_minor": 5
}
